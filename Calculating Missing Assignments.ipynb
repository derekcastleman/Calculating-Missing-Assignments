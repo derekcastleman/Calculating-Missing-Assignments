{
 "cells": [
  {
   "cell_type": "markdown",
   "id": "38d5b2bf",
   "metadata": {},
   "source": [
    "# Calculating Missing Assignments\n",
    "\n",
    "We are often being asked to find the number of missing assignments that a student has for a given time range. The purpose of this program is to create a file that will have the number of missing assignments for a student for any given time range as well as the sum of missing assignments for each individual school."
   ]
  },
  {
   "cell_type": "code",
   "execution_count": null,
   "id": "303cbd4b",
   "metadata": {},
   "outputs": [],
   "source": [
    "import numpy as np\n",
    "import pandas as pd"
   ]
  },
  {
   "cell_type": "markdown",
   "id": "ebc1d663",
   "metadata": {},
   "source": [
    "## Queries\n",
    "\n",
    "__Query for missing assignments__: LIST STU GBU GBS GBA GBK GBR TCH STU.ID STU.NM STU.GR STU.SC GBK.GN GBR.CD GBK.NM GBK.PD TCH.TE GBU.D1 GBU.CSC GBU.CMK GBA.AN GBA.AD GBA.DD GBA.GC GBS.MK GBA.MX IF GBS.MK = \" \" AND GBS.MX > 0 AND GBA.GC = 1 AND GBA.DD >= GBR.SD AND GBA.DD <= GBR.ED AND GBK.SC = TCH.SC\n",
    "\n",
    "\n",
    "__Query for Roster__: LIST STU ENR STU.SC STU.RS STU.ID STU.NM STU.FN STU.LN STU.LF STU.GP ENR.YR ENR.SC ENR.ED ENR.LD ENR.GR ENR.ED"
   ]
  },
  {
   "cell_type": "code",
   "execution_count": null,
   "id": "546b81ce",
   "metadata": {},
   "outputs": [],
   "source": [
    "missing_assignments = pd.read_excel(r\"C:\\Users\\derek.castleman\\Desktop\\MissingAssignments.xlsx\")\n",
    "\n",
    "roster = pd.read_excel(r\"C:\\Users\\derek.castleman\\Desktop\\StudentRoster.xlsx\")\n",
    "\n",
    "output = \"C:\\\\Users\\\\derek.castleman\\\\Desktop\\\\Missing_Assignments.xlsx\""
   ]
  },
  {
   "cell_type": "code",
   "execution_count": null,
   "id": "454ae9a5",
   "metadata": {},
   "outputs": [],
   "source": [
    "missing_assignments"
   ]
  },
  {
   "cell_type": "markdown",
   "id": "671cadb4",
   "metadata": {},
   "source": [
    "## Roster\n",
    "\n",
    "Preparing the roster data for the year of interest by selecting the year in which the academic year begins and then dropping any duplicates a student might have for that year."
   ]
  },
  {
   "cell_type": "code",
   "execution_count": null,
   "id": "52c53cb2",
   "metadata": {},
   "outputs": [],
   "source": [
    "roster"
   ]
  },
  {
   "cell_type": "code",
   "execution_count": null,
   "id": "9310a0a4",
   "metadata": {},
   "outputs": [],
   "source": [
    "# Have to select the year of interest for the roster\n",
    "a = int(input('What is the year in which the school year starts (2021, 2022, 2023, etc.):          '))"
   ]
  },
  {
   "cell_type": "code",
   "execution_count": null,
   "id": "33029cbd",
   "metadata": {},
   "outputs": [],
   "source": [
    "roster_filtered = roster[roster['Year'] == a]\n",
    "roster_filtered"
   ]
  },
  {
   "cell_type": "code",
   "execution_count": null,
   "id": "ac07e78e",
   "metadata": {},
   "outputs": [],
   "source": [
    "# Gets rid of any duplicates for a student for a given year\n",
    "roster = roster_filtered.drop_duplicates(subset=['Student ID'])\n",
    "roster"
   ]
  },
  {
   "cell_type": "markdown",
   "id": "7edd5950",
   "metadata": {},
   "source": [
    "## Missing Assignments\n",
    "\n",
    "The date range of interest will first be selected and then these inputs will be used to narrow down the missing assignments to just this range."
   ]
  },
  {
   "cell_type": "code",
   "execution_count": null,
   "id": "b302c83c",
   "metadata": {},
   "outputs": [],
   "source": [
    "missing_assignments['Start Date']= pd.to_datetime(missing_assignments['Start Date']) # Changes start date to datetime\n",
    "missing_assignments"
   ]
  },
  {
   "cell_type": "code",
   "execution_count": null,
   "id": "fc45ce16",
   "metadata": {},
   "outputs": [],
   "source": [
    "missing_assignments['Due Date']= pd.to_datetime(missing_assignments['Due Date']) # Changes due date to datetime\n",
    "missing_assignments"
   ]
  },
  {
   "cell_type": "code",
   "execution_count": null,
   "id": "95bbb1ef",
   "metadata": {},
   "outputs": [],
   "source": [
    "# Selects the start date for the time range of interest\n",
    "b = input('What is the start date you are interested in (mm/dd/yyyy):          ')\n",
    "b"
   ]
  },
  {
   "cell_type": "code",
   "execution_count": null,
   "id": "3d98b602",
   "metadata": {},
   "outputs": [],
   "source": [
    "b = pd.to_datetime(b) # Turn start date to date time\n",
    "b"
   ]
  },
  {
   "cell_type": "code",
   "execution_count": null,
   "id": "c6df51e8",
   "metadata": {},
   "outputs": [],
   "source": [
    "# Selects the end date for time range of interest\n",
    "c = input('What is the end date you are interested in (mm/dd/yyyy):          ')"
   ]
  },
  {
   "cell_type": "code",
   "execution_count": null,
   "id": "8f54334f",
   "metadata": {},
   "outputs": [],
   "source": [
    "c = pd.to_datetime(c) # Turn end date to date time\n",
    "c"
   ]
  },
  {
   "cell_type": "code",
   "execution_count": null,
   "id": "b2e6c211",
   "metadata": {},
   "outputs": [],
   "source": [
    "# Narrows down the missing assignments to the dates of interest\n",
    "dates_interested = missing_assignments[(missing_assignments['Due Date'] >=b) & (missing_assignments['Due Date'] <=c)]\n",
    "dates_interested"
   ]
  },
  {
   "cell_type": "markdown",
   "id": "81109bd0",
   "metadata": {},
   "source": [
    "## Student Missing Assignments\n",
    "\n",
    "The students will each be given a value of one for every single assignment that they are missing within the time range then the total number of assignments that are missing for each one will be calculated."
   ]
  },
  {
   "cell_type": "code",
   "execution_count": null,
   "id": "96352750",
   "metadata": {},
   "outputs": [],
   "source": [
    "# Creates a column that gives a one for each missing assignment\n",
    "dates_interested['Missing Assignments'] = 1\n",
    "dates_interested"
   ]
  },
  {
   "cell_type": "code",
   "execution_count": null,
   "id": "d2032c69",
   "metadata": {},
   "outputs": [],
   "source": [
    "# Sums up the missing assignments for each student\n",
    "missing_assignments = dates_interested.groupby(by=['Student ID', 'Student Name', 'Grade',\n",
    "                                                   'School'])['Missing Assignments'].sum().reset_index()\n",
    "missing_assignments"
   ]
  },
  {
   "cell_type": "code",
   "execution_count": null,
   "id": "f1ebb7c4",
   "metadata": {},
   "outputs": [],
   "source": [
    "roster"
   ]
  },
  {
   "cell_type": "code",
   "execution_count": null,
   "id": "16cee38d",
   "metadata": {},
   "outputs": [],
   "source": [
    "# Narrows down the columns of the roster to those that are of interest\n",
    "roster_final = roster[['Student ID', 'Student Name', 'Grade', 'School']].reset_index(drop=True)\n",
    "roster_final"
   ]
  },
  {
   "cell_type": "code",
   "execution_count": null,
   "id": "7bfcc559",
   "metadata": {},
   "outputs": [],
   "source": [
    "# Merges the missing assignment dataframe with the roster\n",
    "combined = pd.merge(roster_final, missing_assignments, how='left', on=['Student ID', 'Student Name', \n",
    "                                                                      'Grade', 'School'])\n",
    "combined"
   ]
  },
  {
   "cell_type": "code",
   "execution_count": null,
   "id": "9a794182",
   "metadata": {
    "scrolled": true
   },
   "outputs": [],
   "source": [
    "# Students who have no missing assignments are given a zero\n",
    "combined[\"Missing Assignments\"] = combined[\"Missing Assignments\"].fillna(0)\n",
    "combined"
   ]
  },
  {
   "cell_type": "code",
   "execution_count": null,
   "id": "c9508e7a",
   "metadata": {},
   "outputs": [],
   "source": [
    "student_final = combined"
   ]
  },
  {
   "cell_type": "markdown",
   "id": "79308544",
   "metadata": {},
   "source": [
    "## School Missing Assignments\n",
    "\n",
    "Enrollment will be calculated for each school by giving each student a number one for being enrolled then summing this column and grouing by school.\n",
    "\n",
    "The missing assignments for each student will also be grouped by school to get a total for missing assignments.\n",
    "\n",
    "The average missing assignments by student will be calculated by dividing the total missing assignments by the number of students that are enrolled."
   ]
  },
  {
   "cell_type": "code",
   "execution_count": null,
   "id": "df8d8a4f",
   "metadata": {},
   "outputs": [],
   "source": [
    "combined_enrollment = pd.merge(roster_final, missing_assignments, how='left', on=['Student ID', 'Student Name', \n",
    "                                                                      'Grade', 'School'])\n",
    "combined_enrollment"
   ]
  },
  {
   "cell_type": "code",
   "execution_count": null,
   "id": "0f590c8d",
   "metadata": {},
   "outputs": [],
   "source": [
    "combined_enrollment[\"Missing Assignments\"] = combined_enrollment[\"Missing Assignments\"].fillna(0)\n",
    "combined_enrollment"
   ]
  },
  {
   "cell_type": "code",
   "execution_count": null,
   "id": "3ffaadcb",
   "metadata": {},
   "outputs": [],
   "source": [
    "# Students are giving a number one for being enrolled\n",
    "combined_enrollment['Enrollment'] = 1\n",
    "combined_enrollment"
   ]
  },
  {
   "cell_type": "code",
   "execution_count": null,
   "id": "0806da74",
   "metadata": {},
   "outputs": [],
   "source": [
    "# The total number of assignments are summed up for each school\n",
    "school_missing = combined_enrollment.groupby(by=['School'])['Missing Assignments'].sum().reset_index()\n",
    "school_missing"
   ]
  },
  {
   "cell_type": "code",
   "execution_count": null,
   "id": "f168efc8",
   "metadata": {},
   "outputs": [],
   "source": [
    "# The total enrollment for each school is summed up\n",
    "school_enrollment = combined_enrollment.groupby(by=['School'])['Enrollment'].sum().reset_index()\n",
    "school_enrollment"
   ]
  },
  {
   "cell_type": "code",
   "execution_count": null,
   "id": "688cd1e3",
   "metadata": {},
   "outputs": [],
   "source": [
    "# The summed up enrollment and missing assignments dataframes are merged together\n",
    "school_missing = pd.merge(school_missing, school_enrollment, how='inner', on='School').reset_index(drop=True)\n",
    "school_missing"
   ]
  },
  {
   "cell_type": "code",
   "execution_count": null,
   "id": "47683d46",
   "metadata": {},
   "outputs": [],
   "source": [
    "# Average missing assignment is calculated by dividing total missing assignments by enrollment\n",
    "school_missing['Avg Missing'] = school_missing['Missing Assignments'] / school_missing['Enrollment']\n",
    "school_missing"
   ]
  },
  {
   "cell_type": "code",
   "execution_count": null,
   "id": "57235d9a",
   "metadata": {},
   "outputs": [],
   "source": [
    "# The average missing assignments is rounded to two decimal places\n",
    "decimals = 2\n",
    "school_missing['Avg Missing'] = school_missing['Avg Missing'].apply(lambda x: round(x, decimals))\n",
    "school_missing"
   ]
  },
  {
   "cell_type": "code",
   "execution_count": null,
   "id": "170365a2",
   "metadata": {},
   "outputs": [],
   "source": [
    "# Write dataframe to file\n",
    "\n",
    "writer = pd.ExcelWriter(output)\n",
    "\n",
    "student_final.to_excel(writer, sheet_name = 'Student Missing', index=False)\n",
    "school_missing.to_excel(writer, sheet_name='School Missing', index=False)\n",
    "\n",
    "writer.save()"
   ]
  },
  {
   "cell_type": "code",
   "execution_count": null,
   "id": "753fcd8e",
   "metadata": {},
   "outputs": [],
   "source": []
  }
 ],
 "metadata": {
  "kernelspec": {
   "display_name": "Python 3 (ipykernel)",
   "language": "python",
   "name": "python3"
  },
  "language_info": {
   "codemirror_mode": {
    "name": "ipython",
    "version": 3
   },
   "file_extension": ".py",
   "mimetype": "text/x-python",
   "name": "python",
   "nbconvert_exporter": "python",
   "pygments_lexer": "ipython3",
   "version": "3.9.7"
  }
 },
 "nbformat": 4,
 "nbformat_minor": 5
}
